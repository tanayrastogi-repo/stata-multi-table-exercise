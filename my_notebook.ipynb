{
 "cells": [
  {
   "cell_type": "code",
   "execution_count": null,
   "id": "setup",
   "metadata": {
    "marimo": {
     "name": "setup"
    }
   },
   "outputs": [],
   "source": [
    "import numpy as np\n",
    "import pandas as pd\n",
    "import plotly.express as px"
   ]
  },
  {
   "cell_type": "markdown",
   "id": "RGSE",
   "metadata": {
    "marimo": {
     "config": {
      "hide_code": true
     }
    }
   },
   "source": [
    "----\n",
    "### Data Wrangling and Setup\n",
    "\n",
    "* Loading of all the data.\n",
    "* Formatting of the datatypes.\n",
    "* Creating other dataframe for analysis use."
   ]
  },
  {
   "cell_type": "code",
   "execution_count": null,
   "id": "Kclp",
   "metadata": {
    "marimo": {
     "name": "*astype_columns"
    }
   },
   "outputs": [],
   "source": [
    "# Function to force datatype\n",
    "def astype_columns(df: pd.DataFrame, dtype_map: dict):\n",
    "    return df.astype(dtype_map)"
   ]
  },
  {
   "cell_type": "code",
   "execution_count": null,
   "id": "emfo",
   "metadata": {},
   "outputs": [],
   "source": [
    "# Loading .dta files\n",
    "bid = (\n",
    "    pd.read_stata(\"data/bid.dta\").pipe(  # Reading data\n",
    "        astype_columns, {\"tender_id\": int, \"bidder_id\": int}\n",
    "    )  # Datatype matching\n",
    ")"
   ]
  },
  {
   "cell_type": "code",
   "execution_count": null,
   "id": "Hstk",
   "metadata": {},
   "outputs": [],
   "source": [
    "# Loading bidder.dta files\n",
    "bidder = pd.read_stata(\"data/bidder.dta\").pipe(\n",
    "    astype_columns, {\"bidder_id\": int, \"city\": str}\n",
    ")"
   ]
  },
  {
   "cell_type": "code",
   "execution_count": null,
   "id": "nWHF",
   "metadata": {},
   "outputs": [],
   "source": [
    "# Loading tender .dta files\n",
    "tender = pd.read_stata(\"data/tender.dta\").pipe(\n",
    "    astype_columns, {\"tender_id\": int, \"year\": int, \"location\": str}\n",
    ")"
   ]
  },
  {
   "cell_type": "code",
   "execution_count": null,
   "id": "iLit",
   "metadata": {},
   "outputs": [],
   "source": [
    "## Merge the three dataset together to have one common frame.\n",
    "merged = bid.merge(\n",
    "    bidder.rename(columns={\"city\": \"bidder_city\"}), on=\"bidder_id\", how=\"left\"\n",
    ").merge(\n",
    "    tender.rename(columns={\"location\": \"tender_city\", \"year\": \"tender_year\"}),\n",
    "    on=\"tender_id\",\n",
    "    how=\"left\",\n",
    ")"
   ]
  },
  {
   "cell_type": "markdown",
   "id": "Hbol",
   "metadata": {
    "marimo": {
     "config": {
      "hide_code": true
     }
    }
   },
   "source": [
    "----\n",
    "# TASK 1\n",
    "**Tabulate the frequency distribution of the number of tenders per city.**\n",
    "\n",
    "***My attempt:***\n",
    "\n",
    "To create the frequency distribution for tender/city, I am simply counting the number of times the \"city-name\" is repeated in the **tender.dta** file.\n",
    "\n",
    "The bar-plot below visualize the frequency distribution for the tenders for each city, with Budpest showing the highest tenders."
   ]
  },
  {
   "cell_type": "code",
   "execution_count": null,
   "id": "MJUe",
   "metadata": {
    "marimo": {
     "config": {
      "hide_code": true
     }
    }
   },
   "outputs": [],
   "source": [
    "# Frequency distribution\n",
    "tender_per_city = tender[\"location\"].value_counts().reset_index()\n",
    "tender_per_city.columns = [\"City\", \"Number of Tenders\"]\n",
    "\n",
    "# Plotly bar chart\n",
    "tender_freq_plot = px.bar(\n",
    "    tender_per_city,\n",
    "    x=\"City\",\n",
    "    y=\"Number of Tenders\",\n",
    "    text=\"Number of Tenders\",\n",
    "    title=\"Frequency Distribution of Tenders per City\",\n",
    "    color=\"City\",\n",
    ")\n",
    "\n",
    "# Layout styling\n",
    "tender_freq_plot.update_traces(textposition=\"outside\")\n",
    "tender_freq_plot.update_layout(\n",
    "    xaxis_title=\"City\",\n",
    "    yaxis_title=\"Number of Tenders\",\n",
    "    uniformtext_minsize=8,\n",
    "    uniformtext_mode=\"hide\",\n",
    ")\n",
    "\n",
    "tender_freq_plot"
   ]
  },
  {
   "cell_type": "markdown",
   "id": "vblA",
   "metadata": {
    "marimo": {
     "config": {
      "hide_code": true
     }
    }
   },
   "source": [
    "----\n",
    "# TASK 2\n",
    "**Tabulate the frequency distribution of the number of bidders per tender.**\n",
    "\n",
    "***My Attempt:***\n",
    "\n",
    "Using only the data from **bid.dta**, I grouped the table with tenders and created a list of bidders for each of the tender. This lets me know - 1). actual bidders 2). number of bidders for each tender.\n",
    "\n",
    "Below, bar graph shows exactly, how many bidders were there for each of the tender. Also, on hovering, shows the list of the bidders as well."
   ]
  },
  {
   "cell_type": "code",
   "execution_count": null,
   "id": "bkHC",
   "metadata": {
    "marimo": {
     "config": {
      "hide_code": true
     }
    }
   },
   "outputs": [],
   "source": [
    "# Bidder vs Tender table - This to also have the actual bidder info. Used later in plotting.\n",
    "bidders_table = (\n",
    "    bid.groupby(\"tender_id\")[\"bidder_id\"]\n",
    "    .apply(lambda s: sorted(pd.Series(s.unique()).astype(int).tolist()))\n",
    "    .reset_index()\n",
    ")\n",
    "\n",
    "# Add count and a string version for hover\n",
    "bidders_table[\"Number of Bidders\"] = bidders_table[\"bidder_id\"].str.len()\n",
    "bidders_table[\"Bidders_str\"] = bidders_table[\"bidder_id\"].apply(\n",
    "    lambda xs: \", \".join(map(str, xs))\n",
    ")\n",
    "\n",
    "# Ensure Tender is treated as categorical\n",
    "bidders_table[\"tender_id\"] = bidders_table[\"tender_id\"].astype(str)\n",
    "\n",
    "# Renaming for plotting\n",
    "bidders_table = bidders_table.rename(\n",
    "    columns={\"tender_id\": \"Tender\", \"bidder_id\": \"Bidders\"}\n",
    ")\n",
    "\n",
    "\n",
    "# Plot\n",
    "bidder_freq_plot = px.bar(\n",
    "    bidders_table,\n",
    "    x=\"Tender\",\n",
    "    y=\"Number of Bidders\",\n",
    "    text=\"Number of Bidders\",\n",
    "    title=\"Frequency Distribution of Bidders per Tender\",\n",
    "    color=\"Tender\",\n",
    ")\n",
    "\n",
    "# Layout styling\n",
    "bidder_freq_plot.update_traces(\n",
    "    customdata=np.stack([bidders_table[\"Bidders_str\"]], axis=-1),\n",
    "    textposition=\"outside\",\n",
    "    hovertemplate=(\n",
    "        \"<b>Tender %{x}</b><br>\"\n",
    "        \"Number of bidders: %{y}<br>\"\n",
    "        \"Bidders: %{customdata[0]}\"\n",
    "        \"<extra></extra>\"\n",
    "    ),\n",
    ")\n",
    "bidder_freq_plot.update_layout(\n",
    "    xaxis_title=\"Tender\",\n",
    "    yaxis_title=\"Number of Bidders\",\n",
    "    uniformtext_minsize=8,\n",
    "    uniformtext_mode=\"hide\",\n",
    "    showlegend=True,\n",
    ")\n",
    "bidder_freq_plot"
   ]
  },
  {
   "cell_type": "markdown",
   "id": "lEQa",
   "metadata": {
    "marimo": {
     "config": {
      "hide_code": true
     }
    }
   },
   "source": [
    "---\n",
    "# TASK 3\n",
    "\n",
    "**Compute the total number of bids for each city pair. For example, how many times did a company from \"Szeged\" bid for a project in \"Miskolc\"?**\n",
    "\n",
    "***My Attempt:***\n",
    "\n",
    "For this part, I merged the data from all the avialable data. The **bid.dta** is merged with **bidder.dta** over `bidder_id`, which then is merged with **tender.dta** over `tender_id`. This way, I have all the names of bidder_city and tender_city in one single place.\n",
    "\n",
    "Later, it is just the cross-tabulation between the bidder_city and tender_city to see how may times a bidder city has bid for city in tender in particular city. In the heatmap below, we can see a compnay in \"Szeged\" have bid 2 times for tender in \"Miskolc\"."
   ]
  },
  {
   "cell_type": "code",
   "execution_count": null,
   "id": "PKri",
   "metadata": {
    "marimo": {
     "config": {
      "hide_code": true
     }
    }
   },
   "outputs": [],
   "source": [
    "# Pair-wise matrix\n",
    "tender_bidder_matrix = pd.crosstab(\n",
    "    merged[\"bidder_city\"], merged[\"tender_city\"]\n",
    ")\n",
    "\n",
    "# Plot heatmap\n",
    "heatmap = px.imshow(\n",
    "    tender_bidder_matrix,\n",
    "    text_auto=True,\n",
    "    labels=dict(x=\"Tender City\", y=\"Bidder City\", color=\"Bid Count\"),\n",
    ")\n",
    "heatmap"
   ]
  },
  {
   "cell_type": "markdown",
   "id": "Xref",
   "metadata": {
    "marimo": {
     "config": {
      "hide_code": true
     }
    }
   },
   "source": [
    "---\n",
    "## TASK 4\n",
    "\n",
    "**For each potential bidder in each potential tender (not only the ones that actually bid), create a dummy variable local_experience, which takes the value 1 if the bidder has bid in the same city as the tender before the year of the tender, and 0 otherwise. Cross-tabulate the frequency distribution of this variable with the year of the tender.**\n",
    "\n",
    "***My Attempt:***\n",
    "\n",
    "In order to do this task, I created a column in the **merged** dataframe, called \"first_bid_year_in_city\". This highlights the first time a bidder bid for a specific city. Using the value in this column, if the tender year is greater than first bid year, then \"local_experience\" has value 1.\n",
    "\n",
    "Later, the frequency table for local_experience or not is created using cross-tab between columns \"tender_year\" and \"local_experience\". Below shows, the frequency for each of the fields."
   ]
  },
  {
   "cell_type": "code",
   "execution_count": null,
   "id": "SFPL",
   "metadata": {
    "marimo": {
     "config": {
      "hide_code": true
     }
    }
   },
   "outputs": [],
   "source": [
    "# Bidder’s first year in each city\n",
    "first_year_in_city = (\n",
    "    merged.groupby([\"bidder_id\", \"tender_city\"], as_index=False)[\"tender_year\"]\n",
    "    .min()\n",
    "    .rename(columns={\"tender_year\": \"first_bid_year_in_city\"})\n",
    ")\n",
    "\n",
    "# Adding this to the merged data to potential dataframe containing all the information\n",
    "potential = merged.merge(\n",
    "    first_year_in_city, on=[\"bidder_id\", \"tender_city\"], how=\"left\"\n",
    ")\n",
    "\n",
    "# Adding Local expereince value based on if the first_bid_year_in_city is less than tender year\n",
    "potential[\"local_experience\"] = (\n",
    "    potential[\"first_bid_year_in_city\"] < potential[\"tender_year\"]\n",
    ").astype(int)"
   ]
  },
  {
   "cell_type": "code",
   "execution_count": null,
   "id": "BYtC",
   "metadata": {
    "marimo": {
     "config": {
      "hide_code": true
     }
    }
   },
   "outputs": [],
   "source": [
    "(\n",
    "    pd.crosstab(potential[\"tender_year\"], potential[\"local_experience\"])\n",
    "    .rename(columns={0: \"no_local_experience\", 1: \"has_local_experience\"})\n",
    "    .sort_index()\n",
    ")"
   ]
  }
 ],
 "metadata": {
  "kernelspec": {
   "display_name": "stata-multi-table (3.12.3)",
   "language": "python",
   "name": "python3"
  },
  "language_info": {
   "name": "python",
   "version": "3.12.3"
  }
 },
 "nbformat": 4,
 "nbformat_minor": 5
}
